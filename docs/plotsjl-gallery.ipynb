{
 "cells": [
  {
   "cell_type": "markdown",
   "id": "4bd2e855-ec8a-41dd-971f-af820c1beb3d",
   "metadata": {},
   "source": [
    "# Plots.jl gallery\n",
    "\n",
    "Sources:\n",
    "\n",
    "- [PlotsGallery.jl](https://github.com/goropikari/PlotsGallery.jl) by goropikari\n",
    "- [Julia Plots docs](https://docs.juliaplots.org/)"
   ]
  },
  {
   "cell_type": "markdown",
   "id": "eea9f288-741f-4539-b321-334cf9658afe",
   "metadata": {
    "tags": []
   },
   "source": [
    "## Attributes\n",
    "\n",
    "<https://docs.juliaplots.org/stable/attributes/>"
   ]
  },
  {
   "cell_type": "code",
   "execution_count": null,
   "id": "0f444303-1553-4408-9706-a0bbed418acb",
   "metadata": {
    "execution": {
     "iopub.execute_input": "2022-03-01T08:36:56.427000Z",
     "iopub.status.busy": "2022-03-01T08:36:55.748000Z",
     "iopub.status.idle": "2022-03-01T08:37:04.673000Z",
     "shell.execute_reply": "2022-03-01T08:37:04.634000Z"
    }
   },
   "outputs": [],
   "source": [
    "using Plots"
   ]
  },
  {
   "cell_type": "markdown",
   "id": "d9b706f8-86ec-498a-9d99-aef53ad85d82",
   "metadata": {},
   "source": [
    "### Ticks size and properties"
   ]
  },
  {
   "cell_type": "code",
   "execution_count": null,
   "id": "461c5265-95a7-40dd-86ca-7ea4f226d888",
   "metadata": {
    "execution": {
     "iopub.execute_input": "2022-03-01T08:37:06.287000Z",
     "iopub.status.busy": "2022-03-01T08:37:04.676000Z",
     "iopub.status.idle": "2022-03-01T08:37:23.578000Z",
     "shell.execute_reply": "2022-03-01T08:37:23.578000Z"
    }
   },
   "outputs": [],
   "source": [
    "plot(sin, 0, 2π;\n",
    "    xticks=0:0.5:2π,\n",
    "    xrotation=60,\n",
    "    xtickfontsize=25,\n",
    "    bottom_margin=15Plots.mm)"
   ]
  },
  {
   "cell_type": "code",
   "execution_count": null,
   "id": "4f071483-be13-4bd4-9a54-6a4da989dcb1",
   "metadata": {
    "execution": {
     "iopub.execute_input": "2022-03-01T08:37:23.582000Z",
     "iopub.status.busy": "2022-03-01T08:37:23.581000Z",
     "iopub.status.idle": "2022-03-01T08:37:24.547000Z",
     "shell.execute_reply": "2022-03-01T08:37:24.547000Z"
    }
   },
   "outputs": [],
   "source": [
    "plot(sin, 0, 2π;\n",
    "    xtick=(0:0.5:2π, [\"$i a\" for i in 0:0.5:2π]),\n",
    "    ytick=-1:0.2:1,\n",
    "    xrotation=60, ## -> rotate xticks 60 degree\n",
    "    yrotation=90,\n",
    ")"
   ]
  },
  {
   "cell_type": "markdown",
   "id": "855a1294-dc5e-411f-94fe-cd7f01776e3b",
   "metadata": {},
   "source": [
    "### No axis"
   ]
  },
  {
   "cell_type": "code",
   "execution_count": null,
   "id": "09a26f6a-9ac6-4d31-a084-a80e899400d1",
   "metadata": {
    "execution": {
     "iopub.execute_input": "2022-03-01T08:37:24.551000Z",
     "iopub.status.busy": "2022-03-01T08:37:24.551000Z",
     "iopub.status.idle": "2022-03-01T08:37:24.726000Z",
     "shell.execute_reply": "2022-03-01T08:37:24.725000Z"
    }
   },
   "outputs": [],
   "source": [
    "plot(sin, 0, 2π, axis=false)"
   ]
  },
  {
   "cell_type": "markdown",
   "id": "0f923157-6919-4f54-bf52-250df917fc94",
   "metadata": {},
   "source": [
    "### Log scale for axes"
   ]
  },
  {
   "cell_type": "code",
   "execution_count": null,
   "id": "8e98dd9f-4555-4b8a-8fbd-ea6e35221db2",
   "metadata": {
    "execution": {
     "iopub.execute_input": "2022-03-01T08:37:24.728000Z",
     "iopub.status.busy": "2022-03-01T08:37:24.727000Z",
     "iopub.status.idle": "2022-03-01T08:37:25.724000Z",
     "shell.execute_reply": "2022-03-01T08:37:25.724000Z"
    }
   },
   "outputs": [],
   "source": [
    "plot(exp, -5, 5, yscale=:log10, title=\"semilogy\", legend=nothing)"
   ]
  },
  {
   "cell_type": "code",
   "execution_count": null,
   "id": "5337f032-94c8-4e85-a9e0-bb1122d812b5",
   "metadata": {
    "execution": {
     "iopub.execute_input": "2022-03-01T08:37:25.729000Z",
     "iopub.status.busy": "2022-03-01T08:37:25.728000Z",
     "iopub.status.idle": "2022-03-01T08:37:26.098000Z",
     "shell.execute_reply": "2022-03-01T08:37:26.097000Z"
    }
   },
   "outputs": [],
   "source": [
    "plot(log, 1e-5, 10, xscale=:log10, title=\"semilogx\", legend=nothing)"
   ]
  },
  {
   "cell_type": "code",
   "execution_count": null,
   "id": "1b238ad9-ca39-4ef6-82be-53a70c1ae91f",
   "metadata": {
    "execution": {
     "iopub.execute_input": "2022-03-01T08:37:26.101000Z",
     "iopub.status.busy": "2022-03-01T08:37:26.100000Z",
     "iopub.status.idle": "2022-03-01T08:37:26.550000Z",
     "shell.execute_reply": "2022-03-01T08:37:26.550000Z"
    }
   },
   "outputs": [],
   "source": [
    "plot(x->x^1.7, 1e-3, 3, scale=:log10, title=\"log-log\", legend=nothing)"
   ]
  },
  {
   "cell_type": "markdown",
   "id": "c078acf6-0bc7-43a9-92fc-1fb676a5b673",
   "metadata": {},
   "source": [
    "### Axis range"
   ]
  },
  {
   "cell_type": "code",
   "execution_count": null,
   "id": "6f5ff470-903e-491d-9e98-736066991225",
   "metadata": {
    "execution": {
     "iopub.execute_input": "2022-03-01T08:37:26.555000Z",
     "iopub.status.busy": "2022-03-01T08:37:26.554000Z",
     "iopub.status.idle": "2022-03-01T08:37:27.049000Z",
     "shell.execute_reply": "2022-03-01T08:37:27.049000Z"
    }
   },
   "outputs": [],
   "source": [
    "plot(sin, 0, 2π, xlims=(-10, 10), ylims=(-2,2))"
   ]
  },
  {
   "cell_type": "markdown",
   "id": "2518293c-b58e-42b5-86bf-1fd7e74b48b3",
   "metadata": {},
   "source": [
    "### Scietific notation"
   ]
  },
  {
   "cell_type": "code",
   "execution_count": null,
   "id": "6dd86b90-a076-4fa3-9d5a-ad9ac6c862af",
   "metadata": {
    "execution": {
     "iopub.execute_input": "2022-03-01T08:37:27.054000Z",
     "iopub.status.busy": "2022-03-01T08:37:27.053000Z",
     "iopub.status.idle": "2022-03-01T08:37:27.164000Z",
     "shell.execute_reply": "2022-03-01T08:37:27.163000Z"
    }
   },
   "outputs": [],
   "source": [
    "plot(exp, 0, 10, yformatter=:scientific)"
   ]
  },
  {
   "cell_type": "markdown",
   "id": "b93287ff-63b0-4e83-80d9-a90a2d6dfdfb",
   "metadata": {},
   "source": [
    "### Flip Axis "
   ]
  },
  {
   "cell_type": "code",
   "execution_count": null,
   "id": "fd06e304-6037-4327-a956-3d7d3545f10d",
   "metadata": {
    "execution": {
     "iopub.execute_input": "2022-03-01T08:37:27.167000Z",
     "iopub.status.busy": "2022-03-01T08:37:27.166000Z",
     "iopub.status.idle": "2022-03-01T08:37:28.386000Z",
     "shell.execute_reply": "2022-03-01T08:37:28.385000Z"
    }
   },
   "outputs": [],
   "source": [
    "plot(identity, 0:0.01:2π,\n",
    "    proj=:polar,\n",
    "    xflip=true,\n",
    "    yflip=true,\n",
    "    # flip=true # x,y-flip\n",
    ")"
   ]
  },
  {
   "cell_type": "markdown",
   "id": "0781a1c7-7d4c-4e1d-a006-d270874d5e00",
   "metadata": {},
   "source": [
    "### Aspect ratio"
   ]
  },
  {
   "cell_type": "code",
   "execution_count": null,
   "id": "a18bfa8f-b0b0-4831-8446-ceb6f7dbf070",
   "metadata": {
    "execution": {
     "iopub.execute_input": "2022-03-01T08:37:28.390000Z",
     "iopub.status.busy": "2022-03-01T08:37:28.389000Z",
     "iopub.status.idle": "2022-03-01T08:37:28.868000Z",
     "shell.execute_reply": "2022-03-01T08:37:28.867000Z"
    }
   },
   "outputs": [],
   "source": [
    "using Plots\n",
    "using Random\n",
    "Random.seed!(2021)"
   ]
  },
  {
   "cell_type": "code",
   "execution_count": null,
   "id": "4bef2c30-5acc-4b32-a1c8-abb957c567ec",
   "metadata": {
    "execution": {
     "iopub.execute_input": "2022-03-01T08:37:28.871000Z",
     "iopub.status.busy": "2022-03-01T08:37:28.870000Z",
     "iopub.status.idle": "2022-03-01T08:37:32.066000Z",
     "shell.execute_reply": "2022-03-01T08:37:32.064000Z"
    }
   },
   "outputs": [],
   "source": [
    "s = bitrand(10, 10)\n",
    "heatmap(s,\n",
    "        aspect_ratio=:equal,\n",
    "        c=:blues,\n",
    "        colorbar=false)"
   ]
  },
  {
   "cell_type": "markdown",
   "id": "42e37052-53bc-420d-9db3-6c6f2a817204",
   "metadata": {},
   "source": [
    "### Fonts\n",
    "\n",
    "LaTeX fonts are supported via `LaTeXStrings` package."
   ]
  },
  {
   "cell_type": "code",
   "execution_count": null,
   "id": "df888533-8f27-471b-a482-c7ff7a7694dd",
   "metadata": {
    "execution": {
     "iopub.execute_input": "2022-03-01T08:37:32.069000Z",
     "iopub.status.busy": "2022-03-01T08:37:32.068000Z",
     "iopub.status.idle": "2022-03-01T08:37:35.506000Z",
     "shell.execute_reply": "2022-03-01T08:37:35.506000Z"
    }
   },
   "outputs": [],
   "source": [
    "using Plots\n",
    "using LaTeXStrings\n",
    "\n",
    "plot(sin, 0, 2π,\n",
    "    title=L\"y = \\sin(x)\",\n",
    "    titlefont=font(40), ## title\n",
    "\n",
    "    xlabel=L\"x\",\n",
    "    ylabel=\"y\",\n",
    "    xguidefontsize=30, ## x-guide\n",
    "    yguidefontsize=20, ## y-guide\n",
    "    # guidefontsize=20, # both x,y-guide\n",
    "\n",
    "    xtick=(0:0.5:2π, [\"\\$ $(i) \\$\" for i in 0:0.5:2π]),\n",
    "    ytick=-1:0.5:1,\n",
    "    xtickfontsize=15,\n",
    "    ytickfontsize=20,\n",
    "    # tickfontsize=10, # for both x and y\n",
    "\n",
    "    label=\"Sin function\",\n",
    "    legendfontsize=12,\n",
    "\n",
    "    xlims=(0,2π),\n",
    "    ylims=(-1,1),\n",
    "    bottom_margin=5Plots.mm,\n",
    "    left_margin=10Plots.mm,\n",
    "    top_margin=15Plots.mm\n",
    ")"
   ]
  },
  {
   "cell_type": "code",
   "execution_count": null,
   "id": "012ade4b-08d3-4190-9be8-e46ec90d0689",
   "metadata": {
    "execution": {
     "iopub.execute_input": "2022-03-01T08:37:35.726000Z",
     "iopub.status.busy": "2022-03-01T08:37:35.511000Z",
     "iopub.status.idle": "2022-03-01T08:37:37.650000Z",
     "shell.execute_reply": "2022-03-01T08:37:37.650000Z"
    }
   },
   "outputs": [],
   "source": [
    "fib(x) = (((1+sqrt(5))/2)^x - ((1-sqrt(5))/2)^x)/sqrt(5)\n",
    "\n",
    "ann = L\"F_n = \\frac{1}{\\sqrt{5}} \\left[\\left( \\frac{1+\\sqrt{5}}{2} \\right)^n - \\left( \\frac{1-\\sqrt{5}}{2} \\right)^n \\right]\"\n",
    "\n",
    "plot(fib, 1:12, marker=:circle, xlabel=L\"n\", ylabel=L\"F_n\", annotation=(5, 100, ann))"
   ]
  },
  {
   "cell_type": "markdown",
   "id": "3e692da9-940a-4df9-bf97-cf24dbcf96a8",
   "metadata": {},
   "source": [
    "## Bar plots"
   ]
  },
  {
   "cell_type": "code",
   "execution_count": null,
   "id": "f7dc15ec-9c54-40af-abdc-4645aa145a8a",
   "metadata": {
    "execution": {
     "iopub.execute_input": "2022-03-01T08:37:37.656000Z",
     "iopub.status.busy": "2022-03-01T08:37:37.655000Z",
     "iopub.status.idle": "2022-03-01T08:37:41.266000Z",
     "shell.execute_reply": "2022-03-01T08:37:41.266000Z"
    }
   },
   "outputs": [],
   "source": [
    "using Plots\n",
    "using StatsPlots\n",
    "using StatsBase\n",
    "using Random\n",
    "Random.seed!(2021)\n",
    "\n",
    "# Data\n",
    "measles = [38556, 24472, 14556, 18060, 19549, 8122, 28541, 7880, 3283, 4135, 7953, 1884]\n",
    "mumps = [20178, 23536, 34561, 37395, 36072, 32237, 18597, 9408, 6005, 6268, 8963, 13882]\n",
    "chickenPox = [37140, 32169, 37533, 39103, 33244, 23269, 16737, 5411, 3435, 6052, 12825, 23332]\n",
    "\n",
    "ticklabel = string.(collect('A':'L'))"
   ]
  },
  {
   "cell_type": "markdown",
   "id": "7ecddc19-d929-4fd8-9933-b2179434effe",
   "metadata": {},
   "source": [
    "### Grouped vertical bar plots\n",
    "\n",
    "Requires `StatsPlots` package.\n",
    "\n",
    "Use `groupedbar(data, bar_position = :dodge)`"
   ]
  },
  {
   "cell_type": "code",
   "execution_count": null,
   "id": "53b53675-3c75-4d7f-aa28-e00f1c3c3fb6",
   "metadata": {
    "execution": {
     "iopub.execute_input": "2022-03-01T08:37:43.029000Z",
     "iopub.status.busy": "2022-03-01T08:37:41.269000Z",
     "iopub.status.idle": "2022-03-01T08:37:52.292000Z",
     "shell.execute_reply": "2022-03-01T08:37:52.292000Z"
    }
   },
   "outputs": [],
   "source": [
    "groupedbar([measles mumps chickenPox], bar_position = :dodge, bar_width=0.7, xticks=(1:12, ticklabel), label=[\"measles\" \"mumps\" \"chickenPox\"])"
   ]
  },
  {
   "cell_type": "markdown",
   "id": "ac6ed326-488b-4257-83fb-f75c07e3b6b8",
   "metadata": {},
   "source": [
    "### Stacked vertical bar plots\n",
    "\n",
    "Requires `StatsPlots` package.\n",
    "\n",
    "Use `groupedbar(data, bar_position = :stack)`"
   ]
  },
  {
   "cell_type": "code",
   "execution_count": null,
   "id": "ef9df26e-faf9-49d5-8988-74bbb602d539",
   "metadata": {
    "execution": {
     "iopub.execute_input": "2022-03-01T08:37:52.296000Z",
     "iopub.status.busy": "2022-03-01T08:37:52.296000Z",
     "iopub.status.idle": "2022-03-01T08:37:53.222000Z",
     "shell.execute_reply": "2022-03-01T08:37:53.222000Z"
    }
   },
   "outputs": [],
   "source": [
    "groupedbar([measles mumps chickenPox],\n",
    "        bar_position = :stack,\n",
    "        bar_width=0.7,\n",
    "        xticks=(1:12, ticklabel),\n",
    "        label=[\"measles\" \"mumps\" \"chickenPox\"])"
   ]
  },
  {
   "cell_type": "markdown",
   "id": "0cbd77c8-d8d5-40e9-be99-ab8ffbd6a0cc",
   "metadata": {},
   "source": [
    "### Horizontal Bar Plot\n",
    "\n",
    "`bar(data, orientation=:h)`"
   ]
  },
  {
   "cell_type": "code",
   "execution_count": null,
   "id": "82610054-eb66-498e-b4f9-e40931e4cff2",
   "metadata": {
    "execution": {
     "iopub.execute_input": "2022-03-01T08:37:53.225000Z",
     "iopub.status.busy": "2022-03-01T08:37:53.225000Z",
     "iopub.status.idle": "2022-03-01T08:37:54.082000Z",
     "shell.execute_reply": "2022-03-01T08:37:54.082000Z"
    }
   },
   "outputs": [],
   "source": [
    "bar(1:12, orientation=:h, yticks=(1:12, ticklabel), yflip=true)"
   ]
  },
  {
   "cell_type": "markdown",
   "id": "7e532215-84aa-49fb-a04b-ff5817ee681c",
   "metadata": {},
   "source": [
    "### Categorical Histogram Plot"
   ]
  },
  {
   "cell_type": "code",
   "execution_count": null,
   "id": "a7d859ff-6852-4f5b-a5e6-40cb985f0608",
   "metadata": {
    "execution": {
     "iopub.execute_input": "2022-03-01T08:37:54.085000Z",
     "iopub.status.busy": "2022-03-01T08:37:54.085000Z",
     "iopub.status.idle": "2022-03-01T08:37:55.288000Z",
     "shell.execute_reply": "2022-03-01T08:37:55.288000Z"
    }
   },
   "outputs": [],
   "source": [
    "# Data\n",
    "status = [\"Poor\", \"Fair\", \"Good\", \"Excellent\"]\n",
    "data = sample(status, Weights([1,1,2,2]), 100)\n",
    "datamap = countmap(data)\n",
    "\n",
    "# Plot\n",
    "\n",
    "bar((x -> datamap[x]).(status), xticks=(1:4, status), legend=nothing)"
   ]
  },
  {
   "cell_type": "markdown",
   "id": "a1d2fec7-4e04-4aae-94b6-929bb6edf794",
   "metadata": {},
   "source": [
    "## Histogram"
   ]
  },
  {
   "cell_type": "code",
   "execution_count": null,
   "id": "14f3841d-d910-48ec-af83-c86581c4edda",
   "metadata": {
    "execution": {
     "iopub.execute_input": "2022-03-01T08:37:55.292000Z",
     "iopub.status.busy": "2022-03-01T08:37:55.291000Z",
     "iopub.status.idle": "2022-03-01T08:37:56.244000Z",
     "shell.execute_reply": "2022-03-01T08:37:56.244000Z"
    }
   },
   "outputs": [],
   "source": [
    "using Plots\n",
    "using Random\n",
    "Random.seed!(2021)\n",
    "\n",
    "x = randn(1000)\n",
    "y = randn(1000)\n",
    "z = randn(1000)\n",
    "\n",
    "histogram(x, bins=20, alpha=0.4, label=\"A\")\n",
    "histogram!(y, bins=20, alpha=0.4, label=\"B\")\n",
    "histogram!(z, bins=20, alpha=0.4, label=\"C\")"
   ]
  },
  {
   "cell_type": "markdown",
   "id": "8fadf786-87a0-4be9-98f5-34c82fab9df3",
   "metadata": {},
   "source": [
    "## Box plots"
   ]
  },
  {
   "cell_type": "code",
   "execution_count": null,
   "id": "6e1d244b-965f-4d1c-a0ed-0da719147288",
   "metadata": {
    "execution": {
     "iopub.execute_input": "2022-03-01T08:37:56.248000Z",
     "iopub.status.busy": "2022-03-01T08:37:56.248000Z",
     "iopub.status.idle": "2022-03-01T08:37:57.318000Z",
     "shell.execute_reply": "2022-03-01T08:37:57.318000Z"
    }
   },
   "outputs": [],
   "source": [
    "using Plots\n",
    "using StatsPlots\n",
    "using Statistics\n",
    "using Random\n",
    "Random.seed!(2021)\n",
    "\n",
    "n = 30\n",
    "science = rand(1:10, n)\n",
    "boxplot(science, label=\"science\")"
   ]
  },
  {
   "cell_type": "code",
   "execution_count": null,
   "id": "803224af-a4ff-4f86-9002-02ee923f2b5d",
   "metadata": {
    "execution": {
     "iopub.execute_input": "2022-03-01T08:37:57.322000Z",
     "iopub.status.busy": "2022-03-01T08:37:57.322000Z",
     "iopub.status.idle": "2022-03-01T08:37:57.530000Z",
     "shell.execute_reply": "2022-03-01T08:37:57.529000Z"
    }
   },
   "outputs": [],
   "source": [
    "english = rand(1:10, n)\n",
    "boxplot([science english], label=[\"science\" \"english\"])"
   ]
  },
  {
   "cell_type": "markdown",
   "id": "431a6ec6-a52d-4329-8178-9085e9ddb9da",
   "metadata": {},
   "source": [
    "## Contour Plots\n",
    "\n",
    "### Over a function\n",
    "\n",
    "`contour(xs, ys, f)` where `f(x, y) = ...`"
   ]
  },
  {
   "cell_type": "code",
   "execution_count": null,
   "id": "d0e04576-3a8e-4ba0-98f2-e33686e923e7",
   "metadata": {
    "execution": {
     "iopub.execute_input": "2022-03-01T08:37:57.533000Z",
     "iopub.status.busy": "2022-03-01T08:37:57.533000Z",
     "iopub.status.idle": "2022-03-01T08:37:59.238000Z",
     "shell.execute_reply": "2022-03-01T08:37:59.237000Z"
    }
   },
   "outputs": [],
   "source": [
    "using Plots\n",
    "\n",
    "xs = range(0, stop=2, length=50)\n",
    "ys = range(0, stop=2, length=50)\n",
    "f(x , y) = x^2 + y^2\n",
    "\n",
    "contour(xs, ys, f)"
   ]
  },
  {
   "cell_type": "markdown",
   "id": "e0f74d19",
   "metadata": {},
   "source": [
    "### Drawing nullclines\n",
    "\n",
    "[Nullclines](https://en.wikipedia.org/wiki/Nullcline) (zero-growth isoclines) are curves where the derivative of one variable is zero. Nullclines are used to analyze evolution and stability of ODE systems."
   ]
  },
  {
   "cell_type": "code",
   "execution_count": null,
   "id": "305562bf",
   "metadata": {},
   "outputs": [],
   "source": [
    "using Plots\n",
    "\n",
    "dx(x, y) = 3x - 1.4x*y\n",
    "dy(x, y) = -y + 0.8x*y\n",
    "\n",
    "myrange = -1:0.01:4\n",
    "\n",
    "contour(myrange, myrange, dx, levels=[0], color=:red, legend=false)\n",
    "contour!(myrange, myrange, dy, levels=[0], color=:blue, legend=false)"
   ]
  },
  {
   "cell_type": "markdown",
   "id": "b0be623e-35e6-4a69-9b36-463e6a9aa6d6",
   "metadata": {},
   "source": [
    "### Contour plot over an array\n",
    "\n",
    "`contour(x1d, y1d, xy2d)`"
   ]
  },
  {
   "cell_type": "code",
   "execution_count": null,
   "id": "b2fc3329-08a2-433f-85c6-d7287524f269",
   "metadata": {
    "execution": {
     "iopub.execute_input": "2022-03-01T08:37:59.241000Z",
     "iopub.status.busy": "2022-03-01T08:37:59.241000Z",
     "iopub.status.idle": "2022-03-01T08:37:59.478000Z",
     "shell.execute_reply": "2022-03-01T08:37:59.478000Z"
    }
   },
   "outputs": [],
   "source": [
    "# Notice the transpose over xs\n",
    "# This makes zz a 2d array\n",
    "zz = f.(xs', ys)\n",
    "contour(xs, ys, zz)"
   ]
  },
  {
   "cell_type": "markdown",
   "id": "da1a55f5-6b45-4778-aa63-00c749c0ba24",
   "metadata": {},
   "source": [
    "### Filled Contour Plots\n",
    "\n",
    "- `contour(xs, ys, f, fill=true)`\n",
    "- `contourf(xs, ys, f)`"
   ]
  },
  {
   "cell_type": "code",
   "execution_count": null,
   "id": "39241308-7772-40e9-8cd7-4bd0498ee256",
   "metadata": {
    "execution": {
     "iopub.execute_input": "2022-03-01T08:37:59.482000Z",
     "iopub.status.busy": "2022-03-01T08:37:59.482000Z",
     "iopub.status.idle": "2022-03-01T08:38:00.073000Z",
     "shell.execute_reply": "2022-03-01T08:38:00.073000Z"
    }
   },
   "outputs": [],
   "source": [
    "#=\n",
    "contourf(0:0.01:5, 0:0.01:5, \n",
    "\t\t(x, y) -> sin(3x) * cos(x+y), \n",
    "\t    xlabel=\"x\", ylabel=\"y\")\n",
    "=#\n",
    "\n",
    "contour(0:0.01:5, 0:0.01:5, (x, y) -> sin(3x) * cos(x+y), xlabel=\"x\", ylabel=\"y\", fill=true)"
   ]
  },
  {
   "cell_type": "markdown",
   "id": "e944aa94-2094-43a3-ab92-a2e5908a1e6e",
   "metadata": {},
   "source": [
    "## Datetime plot\n",
    "\n",
    "- Use `Dates` package and `Data` data type\n",
    "- Customize ticks"
   ]
  },
  {
   "cell_type": "code",
   "execution_count": null,
   "id": "f53451bf-8dbb-4b6a-a248-3e63abe47fec",
   "metadata": {
    "execution": {
     "iopub.execute_input": "2022-03-01T08:38:00.078000Z",
     "iopub.status.busy": "2022-03-01T08:38:00.078000Z",
     "iopub.status.idle": "2022-03-01T08:38:01.618000Z",
     "shell.execute_reply": "2022-03-01T08:38:01.618000Z"
    }
   },
   "outputs": [],
   "source": [
    "using Plots\n",
    "using Random\n",
    "using Dates\n",
    "Random.seed!(2021)\n",
    "\n",
    "days = 31\n",
    "position = cumsum(randn(days))\n",
    "x = Date(2018,1,1):Day(1):Date(2018,1,31)\n",
    "ticks = [x[i] for i in 1:5:length(x)]\n",
    "\n",
    "plot(x, position,\n",
    "     xlabel=\"Date\",\n",
    "     ylabel=\"Position\",\n",
    "     title=\"Track of random walker\",\n",
    "\t legend=nothing,\n",
    "     xticks=ticks,\n",
    "     xrotation=45,\n",
    "     bottom_margin=10Plots.mm,\n",
    "     left_margin=5Plots.mm)"
   ]
  },
  {
   "cell_type": "markdown",
   "id": "7bb1ae1f-d392-4a17-a2eb-6d7a457f68cc",
   "metadata": {},
   "source": [
    "## Error bar\n",
    "\n",
    "`plots(..., xerr=xerr, yerr=yerr)`"
   ]
  },
  {
   "cell_type": "code",
   "execution_count": null,
   "id": "f951b011-9cba-4bec-b21b-1535ae0f3382",
   "metadata": {
    "execution": {
     "iopub.execute_input": "2022-03-01T08:38:01.621000Z",
     "iopub.status.busy": "2022-03-01T08:38:01.621000Z",
     "iopub.status.idle": "2022-03-01T08:38:02.256000Z",
     "shell.execute_reply": "2022-03-01T08:38:02.256000Z"
    }
   },
   "outputs": [],
   "source": [
    "using Plots\n",
    "using Random\n",
    "Random.seed!(2021)\n",
    "\n",
    "f(x) = 2 * x + 1\n",
    "x = 0:0.1:2\n",
    "n = length(x)\n",
    "y = f.(x) + randn(n)\n",
    "\n",
    "plot(x, y,\n",
    "    xerr=0.1 * rand(n),\n",
    "    yerr=rand(n),\n",
    "\tlegend=nothing)"
   ]
  },
  {
   "cell_type": "markdown",
   "id": "081e041a-e09d-4aee-8d53-a00916258e34",
   "metadata": {},
   "source": [
    "## Heatmap\n",
    "\n",
    "`heatmap(data)`"
   ]
  },
  {
   "cell_type": "code",
   "execution_count": null,
   "id": "874dcfcb-5c8c-4605-a5f0-b34fa8f1d800",
   "metadata": {
    "execution": {
     "iopub.execute_input": "2022-03-01T08:38:02.260000Z",
     "iopub.status.busy": "2022-03-01T08:38:02.260000Z",
     "iopub.status.idle": "2022-03-01T08:38:04.240000Z",
     "shell.execute_reply": "2022-03-01T08:38:04.240000Z"
    }
   },
   "outputs": [],
   "source": [
    "using Plots\n",
    "using Random\n",
    "Random.seed!(2021)\n",
    "\n",
    "a = rand(5,5)\n",
    "xlabel = string.(collect('A':'E'))\n",
    "ylabel = string.(collect('a':'e'))\n",
    "heatmap(a, xticks=(1:5, xlabel), \n",
    "           yticks=(1:5, ylabel),\n",
    "           aspect_ratio=:equal)\n",
    "\n",
    "fontsize = 15\n",
    "nrow, ncol = size(a)\n",
    "\n",
    "# Add number annotations to plots\n",
    "ann = [(i,j, text(round(a[i,j], digits=2), fontsize, :white, :center))\n",
    "            for i in 1:nrow for j in 1:ncol]\n",
    "annotate!(ann, linecolor=:white)"
   ]
  },
  {
   "cell_type": "markdown",
   "id": "9c34b58b-ff50-4dcd-a93f-b899c35ee952",
   "metadata": {},
   "source": [
    "## Line plots\n",
    "\n",
    "```julia\n",
    "using Plots\n",
    "\n",
    "plot(x, y)\n",
    "\n",
    "plot(f, xRange)\n",
    "\n",
    "plot(f, xMin, xMax)\n",
    "\n",
    "plot(x, [y1 y2])\n",
    "```"
   ]
  },
  {
   "cell_type": "code",
   "execution_count": null,
   "id": "105eb1d3-5bd7-4068-a2b0-4c4d7d57a072",
   "metadata": {
    "execution": {
     "iopub.execute_input": "2022-03-01T08:38:04.244000Z",
     "iopub.status.busy": "2022-03-01T08:38:04.244000Z",
     "iopub.status.idle": "2022-03-01T08:38:05.206000Z",
     "shell.execute_reply": "2022-03-01T08:38:05.206000Z"
    }
   },
   "outputs": [],
   "source": [
    "using Plots\n",
    "using Random\n",
    "Random.seed!(2021)\n",
    "\n",
    "# Data\n",
    "x = 0:0.1:2pi\n",
    "y1 = cos.(x)\n",
    "y2 = sin.(x)\n",
    "\n",
    "# Creating a plot in steps\n",
    "plot(x, y1, color=\"blue\", linewidth=3)\n",
    "plot!(x, y2, color=\"red\", line=:dash)\n",
    "title!(\"Trigonometric functions\")\n",
    "xlabel!(\"angle\")\n",
    "ylabel!(\"sin(x) and cos(x)\")\n",
    "plot!(xlims=(0,2pi), ylims=(-2, 2), size=(600, 600))"
   ]
  },
  {
   "cell_type": "code",
   "execution_count": null,
   "id": "2c38d258-0723-485c-b9a6-537c2b86e3f9",
   "metadata": {
    "execution": {
     "iopub.execute_input": "2022-03-01T08:38:05.209000Z",
     "iopub.status.busy": "2022-03-01T08:38:05.209000Z",
     "iopub.status.idle": "2022-03-01T08:38:05.600000Z",
     "shell.execute_reply": "2022-03-01T08:38:05.599000Z"
    }
   },
   "outputs": [],
   "source": [
    "plot(x, y1, line=(:blue, 3))\n",
    "plot!(x, y2, line=(:dash, :red))\n",
    "# One set function to rule them all\n",
    "plot!(title=\"Trigonometric functions\",\n",
    "        xlabel=\"angle\",\n",
    "        ylabel=\"sin(x) and cos(x)\",\n",
    "        xlims=(0,2pi), ylims=(-2, 2), size=(600, 600))"
   ]
  },
  {
   "cell_type": "markdown",
   "id": "7729ecd1-3433-449b-89d3-e8d121418f08",
   "metadata": {},
   "source": [
    "### Plotting multiple series\n",
    "\n",
    "- One row = one observation\n",
    "- One column = one species"
   ]
  },
  {
   "cell_type": "code",
   "execution_count": null,
   "id": "f63daf2b-c0b1-4bfc-ab65-17962f18f1f1",
   "metadata": {
    "execution": {
     "iopub.execute_input": "2022-03-01T08:38:05.603000Z",
     "iopub.status.busy": "2022-03-01T08:38:05.603000Z",
     "iopub.status.idle": "2022-03-01T08:38:05.842000Z",
     "shell.execute_reply": "2022-03-01T08:38:05.842000Z"
    }
   },
   "outputs": [],
   "source": [
    "time = 30\n",
    "walker1 = cumsum(randn(time))\n",
    "walker2 = cumsum(randn(time))\n",
    "walker3 = cumsum(randn(time))\n",
    "walker4 = cumsum(randn(time))\n",
    "walker5 = cumsum(randn(time))\n",
    "plot(1:time, [walker1 walker2 walker3 walker4 walker5],\n",
    "    xlabel=\"time\", ylabel=\"position\",\n",
    "    label=[\"walker1\" \"walker2\" \"walker3\" \"walker4\" \"walker5\"],\n",
    "    legend=:topleft)"
   ]
  },
  {
   "cell_type": "markdown",
   "id": "0a1ddc18-6f52-4a68-a876-8ab75ef856bc",
   "metadata": {},
   "source": [
    "### Parameteric plots\n",
    "\n",
    "Functions can be plotted directly.\n",
    "\n",
    "- `plot(f, xmin, xmax)`\n",
    "- `plot(f, range_of_x)`"
   ]
  },
  {
   "cell_type": "code",
   "execution_count": null,
   "id": "02296c89-00dc-4f73-bc09-34a529290932",
   "metadata": {
    "execution": {
     "iopub.execute_input": "2022-03-01T08:38:05.845000Z",
     "iopub.status.busy": "2022-03-01T08:38:05.845000Z",
     "iopub.status.idle": "2022-03-01T08:38:07.850000Z",
     "shell.execute_reply": "2022-03-01T08:38:07.850000Z"
    }
   },
   "outputs": [],
   "source": [
    "f(x) = 5exp(-x^2)\n",
    "g(x) = x^2\n",
    "plot([f, g], -3, 3, label=[\"f\" \"g\"], legend=:top)"
   ]
  },
  {
   "cell_type": "code",
   "execution_count": null,
   "id": "48fef3f2-b239-49cb-a6b3-ea723d975938",
   "metadata": {
    "execution": {
     "iopub.execute_input": "2022-03-01T08:38:07.854000Z",
     "iopub.status.busy": "2022-03-01T08:38:07.854000Z",
     "iopub.status.idle": "2022-03-01T08:38:08.429000Z",
     "shell.execute_reply": "2022-03-01T08:38:08.429000Z"
    }
   },
   "outputs": [],
   "source": [
    "plot(sin, t->sin(2t), 0, 2π, leg=false, fill=(0,:orange))"
   ]
  },
  {
   "cell_type": "markdown",
   "id": "8c851c6d-d26c-4cea-afcc-5aee09f86fdc",
   "metadata": {},
   "source": [
    "## 3D line plot\n",
    "\n",
    "Similar to 2D line plots.\n",
    "\n",
    "`plot(fx(t), fy(t), fz(t), tmin, tmax [, kwargs...])`"
   ]
  },
  {
   "cell_type": "code",
   "execution_count": null,
   "id": "0634d8dd-8908-4763-b6b8-9f50fe3e3331",
   "metadata": {
    "execution": {
     "iopub.execute_input": "2022-03-01T08:38:08.433000Z",
     "iopub.status.busy": "2022-03-01T08:38:08.433000Z",
     "iopub.status.idle": "2022-03-01T08:38:09.820000Z",
     "shell.execute_reply": "2022-03-01T08:38:09.820000Z"
    }
   },
   "outputs": [],
   "source": [
    "# 3D parametric plot\n",
    "plot(cos, sin, t->sin(5t), 0, 2pi, legend=nothing)"
   ]
  },
  {
   "cell_type": "markdown",
   "id": "0c17f63b-6b35-4e40-b945-27d5cf615870",
   "metadata": {},
   "source": [
    "### Line colors\n",
    "\n",
    "`plot(x, y, c=color)`"
   ]
  },
  {
   "cell_type": "code",
   "execution_count": null,
   "id": "eabafce1-c417-498c-bbbb-da04615e950f",
   "metadata": {
    "execution": {
     "iopub.execute_input": "2022-03-01T08:38:09.824000Z",
     "iopub.status.busy": "2022-03-01T08:38:09.824000Z",
     "iopub.status.idle": "2022-03-01T08:38:10.218000Z",
     "shell.execute_reply": "2022-03-01T08:38:10.218000Z"
    }
   },
   "outputs": [],
   "source": [
    "using Plots\n",
    "using SpecialFunctions\n",
    "\n",
    "x = 0:0.2:10\n",
    "y0 = besselj.(0,x)\n",
    "y1 = besselj.(1,x)\n",
    "y2 = besselj.(2,x)\n",
    "y3 = besselj.(3,x)\n",
    "y4 = besselj.(4,x)\n",
    "y5 = besselj.(5,x)\n",
    "y6 = besselj.(6,x)\n",
    "colors = [:red :green :blue :cyan :magenta :yellow :black]\n",
    "plot(x, [y0 y1 y2 y3 y4 y5 y6], c=colors)"
   ]
  },
  {
   "cell_type": "markdown",
   "id": "8078a787-5b4b-418e-a0f5-e55fba9758d2",
   "metadata": {},
   "source": [
    "### Line styles"
   ]
  },
  {
   "cell_type": "code",
   "execution_count": null,
   "id": "61441f58-d723-4fe7-bc11-61d178bbd23f",
   "metadata": {
    "execution": {
     "iopub.execute_input": "2022-03-01T08:38:10.221000Z",
     "iopub.status.busy": "2022-03-01T08:38:10.221000Z",
     "iopub.status.idle": "2022-03-01T08:38:13.578000Z",
     "shell.execute_reply": "2022-03-01T08:38:13.578000Z"
    }
   },
   "outputs": [],
   "source": [
    "using Plots\n",
    "@show Plots.supported_styles()\n",
    "\n",
    "style = Plots.supported_styles()[2:end]\n",
    "style = reshape(style, 1, length(style))\n",
    "\n",
    "plot(x, [y0 y1 y2 y3 y4], line=(3, style))"
   ]
  },
  {
   "cell_type": "markdown",
   "id": "8876146c-3691-4759-aa17-38bd0b09cb44",
   "metadata": {},
   "source": [
    "## Polar Plots\n",
    "\n",
    "`plot(θ, r, proj=:polar)`"
   ]
  },
  {
   "cell_type": "code",
   "execution_count": null,
   "id": "21189d4d-3928-413d-ac15-1bd1252168a2",
   "metadata": {
    "execution": {
     "iopub.execute_input": "2022-03-01T08:38:13.582000Z",
     "iopub.status.busy": "2022-03-01T08:38:13.582000Z",
     "iopub.status.idle": "2022-03-01T08:38:13.740000Z",
     "shell.execute_reply": "2022-03-01T08:38:13.740000Z"
    }
   },
   "outputs": [],
   "source": [
    "using Plots\n",
    "using Random\n",
    "Random.seed!(2021)\n",
    "\n",
    "r(θ) = 1 + cos(θ) * sin(θ)^2\n",
    "θ = range(0, stop=2π, length=50)\n",
    "plot(θ, r.(θ), proj=:polar, lims=(0,1.5))"
   ]
  },
  {
   "cell_type": "code",
   "execution_count": null,
   "id": "0cc66acd-6237-4162-8d06-8c31a7a94869",
   "metadata": {
    "execution": {
     "iopub.execute_input": "2022-03-01T08:38:13.744000Z",
     "iopub.status.busy": "2022-03-01T08:38:13.744000Z",
     "iopub.status.idle": "2022-03-01T08:38:14.224000Z",
     "shell.execute_reply": "2022-03-01T08:38:14.224000Z"
    }
   },
   "outputs": [],
   "source": [
    "# One-liner\n",
    "plot(θ -> 1 + cos(θ) * sin(θ)^2, 0, 2π, proj=:polar, lims=(0,1.5))"
   ]
  },
  {
   "cell_type": "markdown",
   "id": "a357d1f1-5b65-4425-bfea-6a1496e9b8a6",
   "metadata": {},
   "source": [
    "### Rose Plots\n",
    "\n",
    "`plot(..., proj=:polar, line=:steppre)`"
   ]
  },
  {
   "cell_type": "code",
   "execution_count": null,
   "id": "e5e211d6-90f1-4e41-ab0f-9d68b2b99ac1",
   "metadata": {
    "execution": {
     "iopub.execute_input": "2022-03-01T08:38:14.227000Z",
     "iopub.status.busy": "2022-03-01T08:38:14.227000Z",
     "iopub.status.idle": "2022-03-01T08:38:14.735000Z",
     "shell.execute_reply": "2022-03-01T08:38:14.735000Z"
    }
   },
   "outputs": [],
   "source": [
    "n = 24\n",
    "R = rand(n+1)\n",
    "plot(0:2pi/n:2pi, R, proj=:polar, line=:steppre, lims=(0, 1), legend=nothing)"
   ]
  },
  {
   "cell_type": "markdown",
   "id": "8f1545b2-2f84-4001-8225-a94d4e21dc5b",
   "metadata": {},
   "source": [
    "## Quiver Plots\n",
    "\n",
    "- `quiver(x1d, y1d, quiver=(vx1d, vy1d)`\n",
    "- `quiver(x2d, y2d, quiver=(x, y)->(u, v))`"
   ]
  },
  {
   "cell_type": "code",
   "execution_count": null,
   "id": "97b94b8b-7db4-4657-b1a1-5a2cd197baaa",
   "metadata": {
    "execution": {
     "iopub.execute_input": "2022-03-01T08:38:14.739000Z",
     "iopub.status.busy": "2022-03-01T08:38:14.738000Z",
     "iopub.status.idle": "2022-03-01T08:38:15.868000Z",
     "shell.execute_reply": "2022-03-01T08:38:15.868000Z"
    }
   },
   "outputs": [],
   "source": [
    "using Plots\n",
    "\n",
    "n = 7\n",
    "f(x,y) = hypot(x, y) |> inv\n",
    "\n",
    "x = repeat(-3:(2*3)/n:3, 1, n) |> vec\n",
    "y = repeat(-3:(2*3)/n:3, 1, n)' |> vec\n",
    "vx = f.(x,y) .* cos.(atan.(y,x)) |> vec\n",
    "vy = f.(x,y) .* sin.(atan.(y,x)) |> vec\n",
    "quiver(x, y, quiver=(vx, vy), aspect_ratio=:equal)"
   ]
  },
  {
   "cell_type": "code",
   "execution_count": null,
   "id": "f845a368-dbdb-491d-887f-6f81571c803c",
   "metadata": {
    "execution": {
     "iopub.execute_input": "2022-03-01T08:38:15.871000Z",
     "iopub.status.busy": "2022-03-01T08:38:15.871000Z",
     "iopub.status.idle": "2022-03-01T08:38:16.175000Z",
     "shell.execute_reply": "2022-03-01T08:38:16.175000Z"
    }
   },
   "outputs": [],
   "source": [
    "g(x, y) = [f(x,y) * cos(atan(y,x)), f(x,y) * sin(atan(y,x))]\n",
    "xx = [x for y in -3:(2*3)/n:3, x in -3:(2*3)/n:3]\n",
    "yy = [y for y in -3:(2*3)/n:3, x in -3:(2*3)/n:3]\n",
    "quiver(xx, yy, quiver=g, aspect_ratio=:equal, color=:black)"
   ]
  },
  {
   "cell_type": "markdown",
   "id": "1ed0eb67-74dc-4ba2-93bb-6806742b3d05",
   "metadata": {},
   "source": [
    "## Scatter Plots \n",
    "\n",
    "2D Scatter Plots: `scatter(xpos, ypos)`"
   ]
  },
  {
   "cell_type": "code",
   "execution_count": null,
   "id": "12956917-2294-4b27-8fbd-e14f6ef80524",
   "metadata": {
    "execution": {
     "iopub.execute_input": "2022-03-01T08:38:16.178000Z",
     "iopub.status.busy": "2022-03-01T08:38:16.178000Z",
     "iopub.status.idle": "2022-03-01T08:38:16.914000Z",
     "shell.execute_reply": "2022-03-01T08:38:16.914000Z"
    }
   },
   "outputs": [],
   "source": [
    "using Plots\n",
    "using Random\n",
    "Random.seed!(2021)\n",
    "\n",
    "n = 50\n",
    "x = rand(n)\n",
    "y = rand(n)\n",
    "ms = rand(50) * 30\n",
    "scatter(x, y, markersize=ms)"
   ]
  },
  {
   "cell_type": "markdown",
   "id": "70dbe239-6c91-4138-8e73-9ba99762d7c4",
   "metadata": {},
   "source": [
    "3D Scatter Plots: `scatter(xpos, ypos, zpos)`"
   ]
  },
  {
   "cell_type": "code",
   "execution_count": null,
   "id": "fc543ea3-5b6b-4ed3-9394-ada45093dfe0",
   "metadata": {
    "execution": {
     "iopub.execute_input": "2022-03-01T08:38:16.918000Z",
     "iopub.status.busy": "2022-03-01T08:38:16.918000Z",
     "iopub.status.idle": "2022-03-01T08:38:17.322000Z",
     "shell.execute_reply": "2022-03-01T08:38:17.322000Z"
    }
   },
   "outputs": [],
   "source": [
    "z = rand(n)\n",
    "\n",
    "scatter(x, y, z, markersize=ms)"
   ]
  },
  {
   "cell_type": "markdown",
   "id": "5725f4e6-6389-4796-acc1-0401ff46edf6",
   "metadata": {},
   "source": [
    "## Stairstep plot\n",
    "\n",
    "`plot(..., line=:steppre)`"
   ]
  },
  {
   "cell_type": "code",
   "execution_count": null,
   "id": "7c6b1d9f-fe28-482e-96b5-ffca34ae96b0",
   "metadata": {
    "execution": {
     "iopub.execute_input": "2022-03-01T08:38:17.326000Z",
     "iopub.status.busy": "2022-03-01T08:38:17.326000Z",
     "iopub.status.idle": "2022-03-01T08:38:17.456000Z",
     "shell.execute_reply": "2022-03-01T08:38:17.456000Z"
    }
   },
   "outputs": [],
   "source": [
    "plot(sin.(0:0.3:2pi), line=:steppre, label=\"Steps\")"
   ]
  },
  {
   "cell_type": "markdown",
   "id": "a40653ad-f69a-4038-bad3-77ee74c07cd6",
   "metadata": {},
   "source": [
    "## Stem plot\n",
    "\n",
    "A.k.a lolipop plot.\n",
    "\n",
    "`plot(..., line=:stem)`"
   ]
  },
  {
   "cell_type": "code",
   "execution_count": null,
   "id": "42c9eea3-9f9c-4cc4-9ea8-d3dc91352b33",
   "metadata": {
    "execution": {
     "iopub.execute_input": "2022-03-01T08:38:17.460000Z",
     "iopub.status.busy": "2022-03-01T08:38:17.460000Z",
     "iopub.status.idle": "2022-03-01T08:38:17.757000Z",
     "shell.execute_reply": "2022-03-01T08:38:17.757000Z"
    }
   },
   "outputs": [],
   "source": [
    "plot(sin.(0:0.3:2pi), line=:stem, marker=:star, markersize=20, ylims=(-1.1, 1.1), label=\"Stars\")"
   ]
  },
  {
   "cell_type": "markdown",
   "id": "6676afb0-cf53-445b-8ea9-5c48788f140f",
   "metadata": {},
   "source": [
    "## Subplots\n",
    "\n",
    "- `plot(p1, p2, p3, ...)`\n",
    "- `plot(..., layout=(nrow, ncol))`\n",
    "- `plot(..., layout=@layout [...])`\n",
    "\n",
    "[Source](https://docs.juliaplots.org/latest/layouts/)"
   ]
  },
  {
   "cell_type": "code",
   "execution_count": null,
   "id": "0727c7de-f1de-49ce-bc82-cb527110f8d1",
   "metadata": {
    "execution": {
     "iopub.execute_input": "2022-03-01T08:38:17.761000Z",
     "iopub.status.busy": "2022-03-01T08:38:17.761000Z",
     "iopub.status.idle": "2022-03-01T08:38:17.949000Z",
     "shell.execute_reply": "2022-03-01T08:38:17.949000Z"
    }
   },
   "outputs": [],
   "source": [
    "using Plots\n",
    "using Random\n",
    "Random.seed!(2021)\n",
    "\n",
    "data = rand(100, 4)\n",
    "\n",
    "# create a 2x2 grid, and map each of the 4 series to one of the subplots\n",
    "plot(data, layout = 4)"
   ]
  },
  {
   "cell_type": "code",
   "execution_count": null,
   "id": "30b768f2-4bdc-4e1c-8901-91eecc696053",
   "metadata": {
    "execution": {
     "iopub.execute_input": "2022-03-01T08:38:17.953000Z",
     "iopub.status.busy": "2022-03-01T08:38:17.953000Z",
     "iopub.status.idle": "2022-03-01T08:38:18.126000Z",
     "shell.execute_reply": "2022-03-01T08:38:18.126000Z"
    }
   },
   "outputs": [],
   "source": [
    "# create a 4x1 grid, and map each of the 4 series to one of the subplots\n",
    "plot(data, layout = (4, 1))"
   ]
  },
  {
   "cell_type": "code",
   "execution_count": null,
   "id": "e4f6d4d8-e35e-4e34-a4b3-2231bb98948e",
   "metadata": {
    "execution": {
     "iopub.execute_input": "2022-03-01T08:38:18.130000Z",
     "iopub.status.busy": "2022-03-01T08:38:18.130000Z",
     "iopub.status.idle": "2022-03-01T08:38:18.322000Z",
     "shell.execute_reply": "2022-03-01T08:38:18.322000Z"
    }
   },
   "outputs": [],
   "source": [
    "# More complex grid layouts can be created with the grid(...) constructor:\n",
    "plot(data, layout = grid(4, 1, heights=[0.1 ,0.4, 0.4, 0.1]))"
   ]
  },
  {
   "cell_type": "code",
   "execution_count": null,
   "id": "f50778b9-97d4-44a4-aa0f-c6b3b11c14f3",
   "metadata": {
    "execution": {
     "iopub.execute_input": "2022-03-01T08:38:18.326000Z",
     "iopub.status.busy": "2022-03-01T08:38:18.326000Z",
     "iopub.status.idle": "2022-03-01T08:38:18.491000Z",
     "shell.execute_reply": "2022-03-01T08:38:18.491000Z"
    }
   },
   "outputs": [],
   "source": [
    "# Adding titles and labels\n",
    "plot(data, layout = 4, label=[\"a\" \"b\" \"c\" \"d\"], title=[\"1\" \"2\" \"3\" \"4\"])"
   ]
  },
  {
   "cell_type": "code",
   "execution_count": null,
   "id": "531d0863-cab2-48b6-83e5-eae70b9bdfb2",
   "metadata": {
    "execution": {
     "iopub.execute_input": "2022-03-01T08:38:18.495000Z",
     "iopub.status.busy": "2022-03-01T08:38:18.495000Z",
     "iopub.status.idle": "2022-03-01T08:38:19.662000Z",
     "shell.execute_reply": "2022-03-01T08:38:19.662000Z"
    }
   },
   "outputs": [],
   "source": [
    "l = @layout [\n",
    "    a{0.3w} [grid(3,3)\n",
    "             b{0.2h}  ]\n",
    "]\n",
    "plot(\n",
    "    rand(10, 11),\n",
    "    layout = l, legend = false, seriestype = [:bar :scatter :path],\n",
    "    title = [\"($i)\" for j in 1:1, i in 1:11], titleloc = :right, titlefont = font(8)\n",
    ")"
   ]
  },
  {
   "cell_type": "code",
   "execution_count": null,
   "id": "268863eb-74e1-44ff-aa9d-b87ed2214322",
   "metadata": {
    "execution": {
     "iopub.execute_input": "2022-03-01T08:38:19.666000Z",
     "iopub.status.busy": "2022-03-01T08:38:19.665000Z",
     "iopub.status.idle": "2022-03-01T08:38:20.845000Z",
     "shell.execute_reply": "2022-03-01T08:38:20.845000Z"
    }
   },
   "outputs": [],
   "source": [
    "# Use _ to ignore a spot in the layout\n",
    "plot((plot() for i in 1:7)..., layout=@layout([_ ° _; ° ° °; ° ° °]))"
   ]
  },
  {
   "cell_type": "markdown",
   "id": "819c0b05-47d7-42c8-954a-32e3c8ad7286",
   "metadata": {},
   "source": [
    "### Build subplot components indivisually"
   ]
  },
  {
   "cell_type": "code",
   "execution_count": null,
   "id": "fb12dd4c-4260-463c-be58-51e10ce147ab",
   "metadata": {
    "execution": {
     "iopub.execute_input": "2022-03-01T08:38:20.848000Z",
     "iopub.status.busy": "2022-03-01T08:38:20.848000Z",
     "iopub.status.idle": "2022-03-01T08:38:24.200000Z",
     "shell.execute_reply": "2022-03-01T08:38:24.199000Z"
    }
   },
   "outputs": [],
   "source": [
    "p1 = plot(sin, 0, 2pi, xlabel=\"x1\")\n",
    "p2 = plot(cos, 0, 2pi, xlabel=\"x2\")\n",
    "p3 = histogram(randn(1000), xlabel=\"x3\")\n",
    "p4 = plot(x->exp(-x^2), -3, 3, xlabel=\"x4\")\n",
    "plot(p1, p2, p3, p4)"
   ]
  },
  {
   "cell_type": "markdown",
   "id": "0f0bbae2-d0a6-48f7-9ab8-57dfe6eb689b",
   "metadata": {},
   "source": [
    "## Surface plots\n",
    "\n",
    "- `surface(x, y, z)`\n",
    "- `surface(x, y, (x,y)->z)`\n",
    "- `plot(x, y, z, linetype=:surface)`\n",
    "- `plot(x, y, z, linetype=:wireframe)`"
   ]
  },
  {
   "cell_type": "code",
   "execution_count": null,
   "id": "74c64118-78ca-4fa5-b9fb-8facf2b4bc0d",
   "metadata": {
    "execution": {
     "iopub.execute_input": "2022-03-01T08:38:24.203000Z",
     "iopub.status.busy": "2022-03-01T08:38:24.203000Z",
     "iopub.status.idle": "2022-03-01T08:38:24.935000Z",
     "shell.execute_reply": "2022-03-01T08:38:24.935000Z"
    }
   },
   "outputs": [],
   "source": [
    "using Plots\n",
    "\n",
    "f(x,y) = x^2 + y^2\n",
    "x = y = -10:10\n",
    "\n",
    "surface(x, y, f)"
   ]
  },
  {
   "cell_type": "code",
   "execution_count": null,
   "id": "2ea9e61b-0524-4205-9911-31f9c64b6771",
   "metadata": {
    "execution": {
     "iopub.execute_input": "2022-03-01T08:38:24.939000Z",
     "iopub.status.busy": "2022-03-01T08:38:24.939000Z",
     "iopub.status.idle": "2022-03-01T08:38:25.055000Z",
     "shell.execute_reply": "2022-03-01T08:38:25.055000Z"
    }
   },
   "outputs": [],
   "source": [
    "plot(x, y, f, linetype=:surface)"
   ]
  },
  {
   "cell_type": "code",
   "execution_count": null,
   "id": "6d5bc754-0bfb-4cbe-afa7-d0d9064e4560",
   "metadata": {
    "execution": {
     "iopub.execute_input": "2022-03-01T08:38:25.059000Z",
     "iopub.status.busy": "2022-03-01T08:38:25.059000Z",
     "iopub.status.idle": "2022-03-01T08:38:25.129000Z",
     "shell.execute_reply": "2022-03-01T08:38:25.129000Z"
    }
   },
   "outputs": [],
   "source": [
    "plot(x, y, f, linetype=:wireframe)"
   ]
  },
  {
   "cell_type": "markdown",
   "id": "dff99ebf-813d-4433-868c-2a8a58f71a96",
   "metadata": {},
   "source": [
    "## Two Y Axis\n",
    "\n",
    "`plot!(twinx())`"
   ]
  },
  {
   "cell_type": "code",
   "execution_count": null,
   "id": "00eeb787-e0ab-43ac-b035-da6c0142e827",
   "metadata": {
    "execution": {
     "iopub.execute_input": "2022-03-01T08:38:25.133000Z",
     "iopub.status.busy": "2022-03-01T08:38:25.133000Z",
     "iopub.status.idle": "2022-03-01T08:38:26.527000Z",
     "shell.execute_reply": "2022-03-01T08:38:26.527000Z"
    },
    "tags": []
   },
   "outputs": [],
   "source": [
    "using Plots\n",
    "using Random\n",
    "Random.seed!(2021)\n",
    "\n",
    "plot(randn(100), ylabel=\"y1\", leg=:topright)\n",
    "plot!(twinx(), randn(100)*10,\n",
    "    c=:red,\n",
    "    ylabel=\"y2\",\n",
    "    leg=:bottomright,\n",
    "    size=(600, 400))\n",
    "plot!(right_margin=15Plots.mm)"
   ]
  },
  {
   "cell_type": "markdown",
   "id": "fb8faa4b",
   "metadata": {},
   "source": [
    "## Animations"
   ]
  },
  {
   "cell_type": "code",
   "execution_count": null,
   "id": "cf5a0d0a",
   "metadata": {},
   "outputs": [],
   "source": [
    "using Plots\n",
    "# define the Lorenz attractor\n",
    "Base.@kwdef mutable struct Lorenz\n",
    "    dt::Float64 = 0.02\n",
    "    σ::Float64 = 10\n",
    "    ρ::Float64 = 28\n",
    "    β::Float64 = 8/3\n",
    "    x::Float64 = 1\n",
    "    y::Float64 = 1\n",
    "    z::Float64 = 1\n",
    "end\n",
    "\n",
    "function step!(l::Lorenz)\n",
    "    dx = l.σ * (l.y - l.x)\n",
    "    dy = l.x * (l.ρ - l.z) - l.y\n",
    "    dz = l.x * l.y - l.β * l.z\n",
    "    l.x += l.dt * dx\n",
    "    l.y += l.dt * dy\n",
    "    l.z += l.dt * dz\n",
    "end\n",
    "\n",
    "attractor = Lorenz()\n",
    "\n",
    "\n",
    "# initialize a 3D plot with 1 empty series\n",
    "plt = plot3d(\n",
    "    1,\n",
    "    xlim = (-30, 30),\n",
    "    ylim = (-30, 30),\n",
    "    zlim = (0, 60),\n",
    "    title = \"Lorenz Attractor\",\n",
    "    marker = 2,\n",
    ")\n",
    "\n",
    "# build an animated gif by pushing new points to the plot\n",
    "anim = @animate for i=1:1500\n",
    "    step!(attractor)\n",
    "    push!(plt, attractor.x, attractor.y, attractor.z)\n",
    "end\n",
    "\n",
    "mp4(anim, fps = 15)"
   ]
  }
 ],
 "metadata": {
  "kernelspec": {
   "display_name": "Julia 1.8.2",
   "language": "julia",
   "name": "julia-1.8"
  },
  "language_info": {
   "file_extension": ".jl",
   "mimetype": "application/julia",
   "name": "julia",
   "version": "1.8.2"
  }
 },
 "nbformat": 4,
 "nbformat_minor": 5
}
